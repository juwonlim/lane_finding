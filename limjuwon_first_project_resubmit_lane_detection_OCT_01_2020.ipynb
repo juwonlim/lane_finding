{
 "cells": [
  {
   "cell_type": "code",
   "execution_count": null,
   "metadata": {},
   "outputs": [],
   "source": [
    "\n",
    "#importing some useful packages\n",
    "\n",
    "import cv2\n",
    "from PIL import ImageGrab\n",
    "import time\n",
    "from numpy import ones,vstack\n",
    "from numpy.linalg import lstsq\n",
    "\n",
    "import matplotlib.pyplot as plt\n",
    "import matplotlib.image as mpimg\n",
    "import numpy as np\n",
    "import math\n",
    "\n",
    "from PIL import ImageGrab\n",
    "import time\n",
    "from numpy import ones,vstack\n",
    "from numpy.linalg import lstsq\n",
    "%matplotlib inline\n",
    "\n"
   ]
  },
  {
   "cell_type": "code",
   "execution_count": 15,
   "metadata": {},
   "outputs": [],
   "source": [
    "import sys\n"
   ]
  },
  {
   "cell_type": "code",
   "execution_count": 16,
   "metadata": {},
   "outputs": [
    {
     "data": {
      "text/plain": [
       "['C:\\\\Udacity\\\\Computer Vision Fundamental\\\\1_lane_finding_resubmit\\\\home\\\\CarND-LaneLines-P1',\n",
       " 'C:\\\\Windows\\\\system32',\n",
       " 'C:\\\\Python\\\\Anaconda3_2020_07_64bit\\\\envs\\\\tensorflow\\\\python36.zip',\n",
       " 'C:\\\\Python\\\\Anaconda3_2020_07_64bit\\\\envs\\\\tensorflow\\\\DLLs',\n",
       " 'C:\\\\Python\\\\Anaconda3_2020_07_64bit\\\\envs\\\\tensorflow\\\\lib',\n",
       " 'C:\\\\Python\\\\Anaconda3_2020_07_64bit\\\\envs\\\\tensorflow',\n",
       " '',\n",
       " 'C:\\\\Python\\\\Anaconda3_2020_07_64bit\\\\envs\\\\tensorflow\\\\lib\\\\site-packages',\n",
       " 'C:\\\\Python\\\\Anaconda3_2020_07_64bit\\\\envs\\\\tensorflow\\\\lib\\\\site-packages\\\\win32',\n",
       " 'C:\\\\Python\\\\Anaconda3_2020_07_64bit\\\\envs\\\\tensorflow\\\\lib\\\\site-packages\\\\win32\\\\lib',\n",
       " 'C:\\\\Python\\\\Anaconda3_2020_07_64bit\\\\envs\\\\tensorflow\\\\lib\\\\site-packages\\\\Pythonwin',\n",
       " 'C:\\\\Python\\\\Anaconda3_2020_07_64bit\\\\envs\\\\tensorflow\\\\lib\\\\site-packages\\\\IPython\\\\extensions',\n",
       " 'C:\\\\Users\\\\lim Lenova 2015\\\\.ipython']"
      ]
     },
     "execution_count": 16,
     "metadata": {},
     "output_type": "execute_result"
    }
   ],
   "source": [
    "sys.path"
   ]
  },
  {
   "cell_type": "code",
   "execution_count": null,
   "metadata": {},
   "outputs": [],
   "source": [
    "from Play_the_movie_solid_white_right import origin_video\n",
    "#when it runs, No errors but sometimes nothing happen. in this case, Please run under pycharm."
   ]
  },
  {
   "cell_type": "code",
   "execution_count": null,
   "metadata": {},
   "outputs": [],
   "source": [
    "from Detect_the_edges import edge_detection"
   ]
  },
  {
   "cell_type": "code",
   "execution_count": null,
   "metadata": {},
   "outputs": [],
   "source": [
    "from Play_the_movie_solid_yellow_left import origin_video\n",
    "#when it runs, No errors but sometimes nothing happen. in this case, Please run under pycharm."
   ]
  },
  {
   "cell_type": "code",
   "execution_count": null,
   "metadata": {},
   "outputs": [],
   "source": [
    "from Detect_the_edges import edge_detection"
   ]
  },
  {
   "cell_type": "code",
   "execution_count": null,
   "metadata": {},
   "outputs": [],
   "source": []
  }
 ],
 "metadata": {
  "kernelspec": {
   "display_name": "Python 3",
   "language": "python",
   "name": "python3"
  },
  "language_info": {
   "codemirror_mode": {
    "name": "ipython",
    "version": 3
   },
   "file_extension": ".py",
   "mimetype": "text/x-python",
   "name": "python",
   "nbconvert_exporter": "python",
   "pygments_lexer": "ipython3",
   "version": "3.6.10"
  }
 },
 "nbformat": 4,
 "nbformat_minor": 4
}
